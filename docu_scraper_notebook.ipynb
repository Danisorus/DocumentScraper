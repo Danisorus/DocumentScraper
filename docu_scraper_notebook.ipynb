{
 "cells": [
  {
   "cell_type": "code",
   "execution_count": null,
   "id": "cd65d88a",
   "metadata": {},
   "outputs": [],
   "source": [
    "######################################\n",
    "#\n",
    "#   Script for scraping StuDocu webpage\n",
    "#     from https://www.studocu.com/en-us/document/western-governors-university/advanced-pathopharmacological-foundations/d027-study-guide-to-assist-with-the-class/19312435?shared=1&sid=01644724574\n",
    "#\n",
    "#               by\n",
    "#\n",
    "#          Daniel Augustine\n",
    "#\n",
    "#\n",
    "#\n",
    "#   This script goes to the StuDocu site, \n",
    "#   and scrapes the pdf document webpage\n",
    "#   as a project requested by my mom \n",
    "#\n",
    "#\n",
    "#\n",
    "#   Note: I ran into so trouble trying to access the vaules in <div id=\"pf15\"...> and onwards\n",
    "#         so I have to separate loops that scrapes the pdf document from different number of pages:\n",
    "#           one loop scrapes the first 20 pages and another loop that scrapes the last 12 pages\n",
    "######################################"
   ]
  },
  {
   "cell_type": "code",
   "execution_count": null,
   "id": "efb15876",
   "metadata": {},
   "outputs": [],
   "source": [
    "pip install python-docx"
   ]
  },
  {
   "cell_type": "code",
   "execution_count": null,
   "id": "4ec0aa23",
   "metadata": {},
   "outputs": [],
   "source": [
    "from bs4 import BeautifulSoup as soup\n",
    "from selenium import webdriver\n",
    "import docx\n",
    "from docx.enum.section import WD_SECTION\n",
    "import time\n",
    "from selenium.webdriver.common.keys import Keys"
   ]
  },
  {
   "cell_type": "code",
   "execution_count": null,
   "id": "b1a43776",
   "metadata": {},
   "outputs": [],
   "source": [
    "doc = docx.Document()  #create word document object\n",
    "\n",
    "#url to grab\n",
    "my_url = 'https://www.studocu.com/en-us/document/western-governors-university/advanced-pathopharmacological-foundations/d027-study-guide-to-assist-with-the-class/19312435?shared=1&sid=01644724574'\n",
    "\n",
    "driver = webdriver.Firefox()  #open firefox\n",
    "driver.get(my_url)  #request url\n",
    "\n",
    "#scroll down the page\n",
    "time.sleep(3)\n",
    "element = driver.find_element_by_id('document-wrapper')  #clicks on the middle of the page\n",
    "cnt = 0\n",
    "#scroll down 29 pages to load pages needed to scrape\n",
    "while cnt < 29:\n",
    "    element.send_keys(Keys.PAGE_DOWN)\n",
    "    time.sleep(0.5)\n",
    "    page = driver.page_source\n",
    "    page_soup = soup(page, \"html.parser\", multi_valued_attributes=None)\n",
    "    cnt+=1"
   ]
  },
  {
   "cell_type": "code",
   "execution_count": null,
   "id": "efa01b01",
   "metadata": {},
   "outputs": [],
   "source": [
    "container = page_soup.findAll('div', {'class':'pf w0 h0'})\n",
    "\n",
    "#scrape the first 19 pages\n",
    "for i in range(19):\n",
    "    content_container =  container[i].find('div',{'class':'page-content'}).find('div',{'style':'display:block'}).findAll('div')\n",
    "    print(content_container)"
   ]
  },
  {
   "cell_type": "code",
   "execution_count": null,
   "id": "f7d42648",
   "metadata": {
    "scrolled": true
   },
   "outputs": [],
   "source": [
    "def get_content(container_list):\n",
    "    for i in container_list:\n",
    "        doc.add_paragraph(i.text)\n",
    "    doc.save('place you the directory you want to save your word docx to/document.docx')"
   ]
  },
  {
   "cell_type": "code",
   "execution_count": null,
   "id": "a215e0e1",
   "metadata": {
    "scrolled": true
   },
   "outputs": [],
   "source": [
    "count = 20\n",
    "\n",
    "#scrape the last 12 pages\n",
    "while count < 32:\n",
    "    \n",
    "    #catches any error brought up and skip it while this is running\n",
    "    try:\n",
    "        content_container = container[count].find('div',{'class':'page-content'}).find('div',{'style':'display:block'}).findAll('div')\n",
    "    except:\n",
    "        print('skipped an error')\n",
    "    get_content(content_container)\n",
    "    count+=1"
   ]
  }
 ],
 "metadata": {
  "kernelspec": {
   "display_name": "Python 3",
   "language": "python",
   "name": "python3"
  },
  "language_info": {
   "codemirror_mode": {
    "name": "ipython",
    "version": 3
   },
   "file_extension": ".py",
   "mimetype": "text/x-python",
   "name": "python",
   "nbconvert_exporter": "python",
   "pygments_lexer": "ipython3",
   "version": "3.8.10"
  }
 },
 "nbformat": 4,
 "nbformat_minor": 5
}
